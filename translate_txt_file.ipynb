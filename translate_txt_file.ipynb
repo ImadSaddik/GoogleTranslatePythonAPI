{
 "cells": [
  {
   "cell_type": "markdown",
   "metadata": {},
   "source": [
    "## Reading the txt file"
   ]
  },
  {
   "cell_type": "code",
   "execution_count": 2,
   "metadata": {},
   "outputs": [
    {
     "name": "stdout",
     "output_type": "stream",
     "text": [
      "Hello everyone, in this video I am going to show how to get irradiance and weather data from the Solcast platform. I will show you how to do it manually directly from the website and through API calls.\n",
      "\n",
      "To get started, we need to create a new account. Visit the Solcast website, the link can be found in the description of this video. Click on *Free Sign-up*, here choose the type of account you are interested in, I will choose researcher because I am a student. In this step, I need to provide information about my university and some personal information. I will do this and I will come back.\n"
     ]
    }
   ],
   "source": [
    "with open('./video_script.txt', 'r') as f:\n",
    "    text = f.read()\n",
    "    \n",
    "print(text)"
   ]
  },
  {
   "cell_type": "markdown",
   "metadata": {},
   "source": [
    "## Translating the file"
   ]
  },
  {
   "cell_type": "code",
   "execution_count": 5,
   "metadata": {},
   "outputs": [
    {
     "name": "stdout",
     "output_type": "stream",
     "text": [
      "Bonjour à tous, dans cette vidéo, je vais montrer comment obtenir l'irradiance et les données météorologiques de la plate-forme Solcast.Je vais vous montrer comment le faire manuellement directement à partir du site Web et via des appels API.\n",
      "\n",
      "Pour commencer, nous devons créer un nouveau compte.Visitez le site Web de Solcast, le lien se trouve dans la description de cette vidéo.Cliquez sur * Inscription gratuite *, choisissez ici le type de compte qui vous intéresse, je choisirai le chercheur car je suis étudiant.Dans cette étape, je dois fournir des informations sur mon université et certaines informations personnelles.Je vais faire ça et je reviendrai.\n"
     ]
    }
   ],
   "source": [
    "from googletrans import Translator\n",
    "\n",
    "\n",
    "translator = Translator()\n",
    "translated_text = translator.translate(text=text, src='en', dest='fr').text\n",
    "print(translated_text)"
   ]
  },
  {
   "cell_type": "code",
   "execution_count": 4,
   "metadata": {},
   "outputs": [],
   "source": [
    "with open('./video_script_fr.txt', 'w') as f:\n",
    "    f.write(translated_text)"
   ]
  }
 ],
 "metadata": {
  "kernelspec": {
   "display_name": "google_translate",
   "language": "python",
   "name": "python3"
  },
  "language_info": {
   "codemirror_mode": {
    "name": "ipython",
    "version": 3
   },
   "file_extension": ".py",
   "mimetype": "text/x-python",
   "name": "python",
   "nbconvert_exporter": "python",
   "pygments_lexer": "ipython3",
   "version": "3.10.14"
  }
 },
 "nbformat": 4,
 "nbformat_minor": 2
}
